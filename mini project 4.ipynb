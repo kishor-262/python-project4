{
 "cells": [
  {
   "cell_type": "markdown",
   "metadata": {},
   "source": [
    "\n",
    "4) Choose Your Own Adventure:"
   ]
  },
  {
   "cell_type": "code",
   "execution_count": 1,
   "metadata": {},
   "outputs": [
    {
     "name": "stdout",
     "output_type": "stream",
     "text": [
      "Welcome kishor to this adventure\n"
     ]
    }
   ],
   "source": [
    "name = input(\"Type your name: \")\n",
    "print(\"Welcome\", name, \"to this adventure\")\n",
    "\n",
    "answer = input(\"you are on a dirt road, it has come to an end and you can go left or right.  which way would you left or right? \")\n",
    "\n",
    "if answer == \"left\":\n",
    "    answer = input(\"you comr to a river, you can walk around it or swim across? type walk to walk around and swim\")\n",
    "\n",
    "    if answer == \"swim\":\n",
    "        print(\"you swim across and were eaten by an alligator.\")\n",
    "    elif answer == \"walk\":\n",
    "        print(\"you walked for many miles, ran out of water and you lost the game.\")\n",
    "    else:\n",
    "        print(\"not a valid option, you lose.\")\n",
    "\n",
    "elif answer == \"right\":\n",
    "    answer = input(\"you come to a bridge, it looks wobbly, do you want to cross it or head back (cross/back)? \")\n",
    "\n",
    "    if answer == \"back\":\n",
    "        print(\"you go back and lose.\")\n",
    "    elif answer == \"cross\":\n",
    "        answer = input(\"you cross the bridge and meet a stranger. Do you talk to them (yes/no)? \")\n",
    "\n",
    "        if answer == \"yes\":\n",
    "            print(\"you talk to the stranger and they give gold. You WIN!\")\n",
    "        elif answer == \"no\":\n",
    "            print(\"you ignore the stranger and they are offended and you lose.\")\n",
    "        else:\n",
    "            print('not a valid option. you lose.')\n",
    "\n",
    "    else:\n",
    "        print('not a valid option. you lose.')\n",
    "\n",
    "else:\n",
    "    print('not a valid option. you lose')\n",
    "\n",
    "print(\"Thank you for trying\", name)"
   ]
  },
  {
   "cell_type": "code",
   "execution_count": null,
   "metadata": {},
   "outputs": [],
   "source": []
  }
 ],
 "metadata": {
  "kernelspec": {
   "display_name": "base",
   "language": "python",
   "name": "python3"
  },
  "language_info": {
   "codemirror_mode": {
    "name": "ipython",
    "version": 3
   },
   "file_extension": ".py",
   "mimetype": "text/x-python",
   "name": "python",
   "nbconvert_exporter": "python",
   "pygments_lexer": "ipython3",
   "version": "3.11.4"
  },
  "orig_nbformat": 4
 },
 "nbformat": 4,
 "nbformat_minor": 2
}
